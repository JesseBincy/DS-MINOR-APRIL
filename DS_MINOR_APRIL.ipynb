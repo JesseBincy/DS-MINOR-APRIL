{
  "nbformat": 4,
  "nbformat_minor": 0,
  "metadata": {
    "colab": {
      "name": "DS-MINOR-APRIL",
      "provenance": [],
      "authorship_tag": "ABX9TyMrSAEw1s2W3L8cHlJZxFdd",
      "include_colab_link": true
    },
    "kernelspec": {
      "name": "python3",
      "display_name": "Python 3"
    },
    "language_info": {
      "name": "python"
    }
  },
  "cells": [
    {
      "cell_type": "markdown",
      "metadata": {
        "id": "view-in-github",
        "colab_type": "text"
      },
      "source": [
        "<a href=\"https://colab.research.google.com/github/JesseBincy/DS-MINOR-APRIL/blob/main/DS_MINOR_APRIL.ipynb\" target=\"_parent\"><img src=\"https://colab.research.google.com/assets/colab-badge.svg\" alt=\"Open In Colab\"/></a>"
      ]
    },
    {
      "cell_type": "code",
      "metadata": {
        "id": "yLJfwD6aTc7K"
      },
      "source": [
        "# Data : Images\n",
        "# 1. Download manually the images from google\n",
        "# 2. Download dataset from kaggle.com\n",
        "# 3. Bulit a web crawler\n",
        "# 4. Use python libraries to scrape the images (Using)"
      ],
      "execution_count": null,
      "outputs": []
    },
    {
      "cell_type": "code",
      "metadata": {
        "colab": {
          "base_uri": "https://localhost:8080/"
        },
        "id": "bvHJZLyJYMzg",
        "outputId": "b05c3d6a-c109-42f5-b6a4-3aed7745984a"
      },
      "source": [
        "!pip install bing-image-downloader"
      ],
      "execution_count": null,
      "outputs": [
        {
          "output_type": "stream",
          "text": [
            "Collecting bing-image-downloader\n",
            "  Downloading https://files.pythonhosted.org/packages/0d/bf/537a61030b84ae4cd5022d5c7b014fd9bc3ce7c02358919153a6658a61d3/bing_image_downloader-1.0.4-py3-none-any.whl\n",
            "Installing collected packages: bing-image-downloader\n",
            "Successfully installed bing-image-downloader-1.0.4\n"
          ],
          "name": "stdout"
        }
      ]
    },
    {
      "cell_type": "code",
      "metadata": {
        "colab": {
          "base_uri": "https://localhost:8080/"
        },
        "id": "V7tbg_3_Yyzv",
        "outputId": "7b7242a8-1a5a-41b0-aa76-99e5db101b7c"
      },
      "source": [
        "!mkdir images"
      ],
      "execution_count": null,
      "outputs": [
        {
          "output_type": "stream",
          "text": [
            "mkdir: cannot create directory ‘images’: File exists\n"
          ],
          "name": "stdout"
        }
      ]
    },
    {
      "cell_type": "code",
      "metadata": {
        "colab": {
          "base_uri": "https://localhost:8080/"
        },
        "id": "p8a8WYl8ZYnS",
        "outputId": "b7ec236b-6454-49ba-fc2b-8fafa010df44"
      },
      "source": [
        "from bing_image_downloader import downloader\n",
        "downloader.download(\"dahlia\",limit=30,output_dir='images',adult_filter_off=True)"
      ],
      "execution_count": null,
      "outputs": [
        {
          "output_type": "stream",
          "text": [
            "\n",
            "\n",
            "[!!]Indexing page: 1\n",
            "\n",
            "[%] Indexed 8 Images on Page 1.\n",
            "\n",
            "===============================================\n",
            "\n",
            "[%] Downloading Image #1 from http://www.wallpapers13.com/wp-content/uploads/2018/08/Dahlia-Yellow-Flowers-High-quality-Flower-wallpaper-for-Desktop-Computers-HD-Wallpapers-for-4K-Ultra-HD-TV-3840x2400.jpg\n",
            "[%] File Downloaded !\n",
            "\n",
            "[%] Downloading Image #2 from https://flowerspicture.org/enlarge/f/fuchsia-hybrida.jpg\n",
            "[%] File Downloaded !\n",
            "\n",
            "[%] Downloading Image #3 from https://www.hdwallpapers.in/download/white_dahlia_flower_5k-1080x1920.jpg\n",
            "[%] File Downloaded !\n",
            "\n",
            "[%] Downloading Image #4 from http://fraseshoy.org/wp-content/uploads/2015/11/flores4.jpg\n",
            "[Error]Invalid image, not saving http://fraseshoy.org/wp-content/uploads/2015/11/flores4.jpg\n",
            "\n",
            "[!] Issue getting: http://fraseshoy.org/wp-content/uploads/2015/11/flores4.jpg\n",
            "[!] Error:: No active exception to reraise\n",
            "[%] Downloading Image #4 from http://www.wallpapers13.com/wp-content/uploads/2015/12/Flower-pink-lotus-flower-and-lily-pads-2560X1600-1600x1200.jpg\n",
            "[%] File Downloaded !\n",
            "\n",
            "[%] Downloading Image #5 from https://www.anime-planet.com/images/characters/delia-ketchum-10670.jpg\n",
            "[%] File Downloaded !\n",
            "\n",
            "[%] Downloading Image #6 from http://hgtvhome.sndimg.com/content/dam/images/hgtv/fullset/2013/7/26/1/RS_dahlia-mahmood-modern-open-game-room-pool-table_3x4.jpg.rend.hgtvcom.616.822.jpeg\n",
            "[%] File Downloaded !\n",
            "\n",
            "[%] Downloading Image #7 from https://www.wallpapers13.com/wp-content/uploads/2015/12/Pink-flowers-focus-blur-2560x1600-1920x1440.jpg\n",
            "[%] File Downloaded !\n",
            "\n",
            "\n",
            "\n",
            "[!!]Indexing page: 2\n",
            "\n",
            "[%] Indexed 10 Images on Page 2.\n",
            "\n",
            "===============================================\n",
            "\n",
            "[%] Downloading Image #8 from http://www.wallpapers13.com/wp-content/uploads/2018/08/Dahlia-Yellow-Flowers-High-quality-Flower-wallpaper-for-Desktop-Computers-HD-Wallpapers-for-4K-Ultra-HD-TV-3840x2400.jpg\n",
            "[%] File Downloaded !\n",
            "\n",
            "[%] Downloading Image #9 from https://flowerspicture.org/enlarge/f/fuchsia-hybrida.jpg\n",
            "[%] File Downloaded !\n",
            "\n",
            "[%] Downloading Image #10 from https://www.hdwallpapers.in/download/white_dahlia_flower_5k-1080x1920.jpg\n",
            "[%] File Downloaded !\n",
            "\n",
            "[%] Downloading Image #11 from https://www.wallpapers13.com/wp-content/uploads/2015/12/Pink-flowers-focus-blur-2560x1600-1920x1440.jpg\n",
            "[%] File Downloaded !\n",
            "\n",
            "[%] Downloading Image #12 from http://fraseshoy.org/wp-content/uploads/2015/11/flores4.jpg\n",
            "[Error]Invalid image, not saving http://fraseshoy.org/wp-content/uploads/2015/11/flores4.jpg\n",
            "\n",
            "[!] Issue getting: http://fraseshoy.org/wp-content/uploads/2015/11/flores4.jpg\n",
            "[!] Error:: No active exception to reraise\n",
            "[%] Downloading Image #12 from http://www.carnet-deco.fr/wp-content/uploads/2015/12/Cerisiers-du-Japon-sur-leau.jpg\n",
            "[%] File Downloaded !\n",
            "\n",
            "[%] Downloading Image #13 from https://www.anime-planet.com/images/characters/delia-ketchum-10670.jpg\n",
            "[%] File Downloaded !\n",
            "\n",
            "[%] Downloading Image #14 from http://www.wallpapers13.com/wp-content/uploads/2015/12/Flower-pink-lotus-flower-and-lily-pads-2560X1600-1600x1200.jpg\n",
            "[%] File Downloaded !\n",
            "\n",
            "[%] Downloading Image #15 from http://hgtvhome.sndimg.com/content/dam/images/hgtv/fullset/2013/7/26/1/RS_dahlia-mahmood-modern-open-game-room-pool-table_3x4.jpg.rend.hgtvcom.616.822.jpeg\n",
            "[%] File Downloaded !\n",
            "\n",
            "[%] Downloading Image #16 from http://www.wallpapers13.com/wp-content/uploads/2016/03/Poppy-field-red-flowers-wallpaper-for-desktop.jpg\n",
            "[%] File Downloaded !\n",
            "\n",
            "\n",
            "\n",
            "[!!]Indexing page: 3\n",
            "\n",
            "[%] Indexed 8 Images on Page 3.\n",
            "\n",
            "===============================================\n",
            "\n",
            "[%] Downloading Image #17 from https://www.wallpapers13.com/wp-content/uploads/2016/07/Dahlia-bright-pink-flowers-HD-Wallpaper-Download-for-mobile-1920x1200-1600x1200.jpg\n",
            "[%] File Downloaded !\n",
            "\n",
            "[%] Downloading Image #18 from https://www.bestcoloringpagesforkids.com/wp-content/uploads/2013/12/Deadpool-Coloring-Pages-To-Print-724x1024.jpg\n",
            "[%] File Downloaded !\n",
            "\n",
            "[%] Downloading Image #19 from http://ohbestdayever.com/wp-content/uploads/2017/12/dahlias-protea-garden-roses-and-greenery-wedding-bouquet.jpg\n",
            "[%] File Downloaded !\n",
            "\n",
            "[%] Downloading Image #20 from https://sowdenhouse.com/wp-content/uploads/2017/08/Black-Dahlia-003.jpg\n",
            "[%] File Downloaded !\n",
            "\n",
            "[%] Downloading Image #21 from https://www.schetsservice.nl/wp-content/uploads/2017/09/IMG_1978-Crassula-schmidtii-534x800.jpg\n",
            "[%] File Downloaded !\n",
            "\n",
            "[%] Downloading Image #22 from http://worldwidemistressguide.com/wp-content/uploads/2015/07/Baroness-Essex-683x1024.jpg\n",
            "[%] File Downloaded !\n",
            "\n",
            "[%] Downloading Image #23 from https://www.wallpapers13.com/wp-content/uploads/2016/04/Light-pink-flowers-Desktop-Wallpaper-full-screen-1920x1440.jpg\n",
            "[%] File Downloaded !\n",
            "\n",
            "[%] Downloading Image #24 from http://www.wallpapers13.com/wp-content/uploads/2015/12/Download-Rose-Flower-Background-Images-HD-Wallpaper-1600x1200.jpg\n",
            "[%] File Downloaded !\n",
            "\n",
            "\n",
            "\n",
            "[!!]Indexing page: 4\n",
            "\n",
            "[%] Indexed 7 Images on Page 4.\n",
            "\n",
            "===============================================\n",
            "\n",
            "[%] Downloading Image #25 from https://ohbestdayever.com/wp-content/uploads/2017/08/burgundy-wedding-bouquets.jpg\n",
            "[%] File Downloaded !\n",
            "\n",
            "[%] Downloading Image #26 from https://www.hartsnursery.co.uk/image.php?type=T&amp;id=17857\n",
            "[%] File Downloaded !\n",
            "\n",
            "[%] Downloading Image #27 from https://dlgdxii3fgupk.cloudfront.net/myaquariumclub.com/images/fbfiles/images/IMG_1731-a00816f8cb0371f42233ef51e2de17ed_v_1480779012.JPG\n",
            "[%] File Downloaded !\n",
            "\n",
            "[%] Downloading Image #28 from https://sowdenhouse.com/wp-content/uploads/2017/08/Black-Dahlia-006.jpg\n",
            "[%] File Downloaded !\n",
            "\n",
            "[%] Downloading Image #29 from http://cdn.ipernity.com/112/51/95/5815195.78ac7f74.500.jpg?r2\n",
            "[%] File Downloaded !\n",
            "\n",
            "[%] Downloading Image #30 from https://d29jd5m3t61t9.cloudfront.net/flowersforums.com/images/fbfiles/images/PA241046_v_1401704591.JPG\n",
            "[%] File Downloaded !\n",
            "\n",
            "\n",
            "\n",
            "[%] Done. Downloaded 30 images.\n",
            "\n",
            "===============================================\n",
            "\n"
          ],
          "name": "stdout"
        }
      ]
    },
    {
      "cell_type": "code",
      "metadata": {
        "colab": {
          "base_uri": "https://localhost:8080/"
        },
        "id": "HJbM1f6Vcipq",
        "outputId": "e3aa4045-69b6-4900-9d3c-bc7dfc24706e"
      },
      "source": [
        "downloader.download(\"peacock\",limit=30,output_dir='images',adult_filter_off=True)"
      ],
      "execution_count": null,
      "outputs": [
        {
          "output_type": "stream",
          "text": [
            "\n",
            "\n",
            "[!!]Indexing page: 1\n",
            "\n",
            "[%] Indexed 10 Images on Page 1.\n",
            "\n",
            "===============================================\n",
            "\n",
            "[%] Downloading Image #1 from http://www.wallpapers13.com/wp-content/uploads/2018/10/Birds-Indian-Peafowl-or-Peacocks-Indian-peacock-colored-birds-with-green-and-blue-feathers-Ultra-HD-Wallpapers-for-Desktop-Mobile-Phones-and-laptop-3840x2160-1280x960.jpg\n",
            "[%] File Downloaded !\n",
            "\n",
            "[%] Downloading Image #2 from http://www.thisiscolossal.com/wp-content/uploads/2017/05/Embrace-detail-1-onl.jpg\n",
            "[%] File Downloaded !\n",
            "\n",
            "[%] Downloading Image #3 from https://english.mathrubhumi.com/polopoly_fs/1.3305602.1542089543!/image/image.jpg_gen/derivatives/landscape_1080_600/image.jpg\n",
            "[%] File Downloaded !\n",
            "\n",
            "[%] Downloading Image #4 from https://spongekids.com/wp-content/uploads/2014/04/pipe-cleaner-animals/28-pipe-cleaner-antelope.jpg\n",
            "[%] File Downloaded !\n",
            "\n",
            "[%] Downloading Image #5 from https://www.littlebcakes.com/wp-content/uploads/2014/02/Peacock-Wedding-Cake.jpg\n",
            "[%] File Downloaded !\n",
            "\n",
            "[%] Downloading Image #6 from https://www.bravotv.com/sites/bravo/files/styles/media-gallery-computer/public/field_media_items/2017/05/cyrus_vs_cyrus_personal_family_photos_cyrus_02.jpg?itok=9wj24-_l\n",
            "[%] File Downloaded !\n",
            "\n",
            "[%] Downloading Image #7 from https://c2.staticflickr.com/4/3044/2750847545_18a59a1192_b.jpg\n",
            "[%] File Downloaded !\n",
            "\n",
            "[%] Downloading Image #8 from https://www.oxygen.com/sites/oxygen/files/styles/media-gallery-computer/public/legacy/dj_bua-497d1a2fc0e4792aac1954cc1357111e.jpg?itok=REnNXCcy\n",
            "[%] File Downloaded !\n",
            "\n",
            "[%] Downloading Image #9 from https://brisbaneinsects.com/brisbane_bees/images/DSC_6809_small.jpg\n",
            "[%] File Downloaded !\n",
            "\n",
            "[%] Downloading Image #10 from https://spongekids.com/wp-content/uploads/2014/04/pipe-cleaner-animals/15-white-tailed-deer.jpg\n",
            "[%] File Downloaded !\n",
            "\n",
            "\n",
            "\n",
            "[!!]Indexing page: 2\n",
            "\n",
            "[%] Indexed 10 Images on Page 2.\n",
            "\n",
            "===============================================\n",
            "\n",
            "[%] Downloading Image #11 from http://www.wallpapers13.com/wp-content/uploads/2018/10/Birds-Indian-Peafowl-or-Peacocks-Indian-peacock-colored-birds-with-green-and-blue-feathers-Ultra-HD-Wallpapers-for-Desktop-Mobile-Phones-and-laptop-3840x2160-1280x960.jpg\n",
            "[%] File Downloaded !\n",
            "\n",
            "[%] Downloading Image #12 from http://www.thisiscolossal.com/wp-content/uploads/2017/05/Embrace-detail-1-onl.jpg\n",
            "[%] File Downloaded !\n",
            "\n",
            "[%] Downloading Image #13 from https://english.mathrubhumi.com/polopoly_fs/1.3305602.1542089543!/image/image.jpg_gen/derivatives/landscape_1080_600/image.jpg\n",
            "[%] File Downloaded !\n",
            "\n",
            "[%] Downloading Image #14 from https://spongekids.com/wp-content/uploads/2014/04/pipe-cleaner-animals/28-pipe-cleaner-antelope.jpg\n",
            "[%] File Downloaded !\n",
            "\n",
            "[%] Downloading Image #15 from https://www.littlebcakes.com/wp-content/uploads/2014/02/Peacock-Wedding-Cake.jpg\n",
            "[%] File Downloaded !\n",
            "\n",
            "[%] Downloading Image #16 from https://www.bravotv.com/sites/bravo/files/styles/media-gallery-computer/public/field_media_items/2017/05/cyrus_vs_cyrus_personal_family_photos_cyrus_02.jpg?itok=9wj24-_l\n",
            "[%] File Downloaded !\n",
            "\n",
            "[%] Downloading Image #17 from https://c2.staticflickr.com/4/3044/2750847545_18a59a1192_b.jpg\n",
            "[%] File Downloaded !\n",
            "\n",
            "[%] Downloading Image #18 from https://www.oxygen.com/sites/oxygen/files/styles/media-gallery-computer/public/legacy/dj_bua-497d1a2fc0e4792aac1954cc1357111e.jpg?itok=REnNXCcy\n",
            "[%] File Downloaded !\n",
            "\n",
            "[%] Downloading Image #19 from https://brisbaneinsects.com/brisbane_bees/images/DSC_6809_small.jpg\n",
            "[%] File Downloaded !\n",
            "\n",
            "[%] Downloading Image #20 from https://spongekids.com/wp-content/uploads/2014/04/pipe-cleaner-animals/15-white-tailed-deer.jpg\n",
            "[%] File Downloaded !\n",
            "\n",
            "\n",
            "\n",
            "[!!]Indexing page: 3\n",
            "\n",
            "[%] Indexed 9 Images on Page 3.\n",
            "\n",
            "===============================================\n",
            "\n",
            "[%] Downloading Image #21 from https://english.mathrubhumi.com/polopoly_fs/1.3305602.1542089543!/image/image.jpg_gen/derivatives/landscape_1080_600/image.jpg\n",
            "[%] File Downloaded !\n",
            "\n",
            "[%] Downloading Image #22 from https://spongekids.com/wp-content/uploads/2014/04/pipe-cleaner-animals/15-white-tailed-deer.jpg\n",
            "[%] File Downloaded !\n",
            "\n",
            "[%] Downloading Image #23 from https://www.littlebcakes.com/wp-content/uploads/2014/02/Peacock-Wedding-Cake.jpg\n",
            "[%] File Downloaded !\n",
            "\n",
            "[%] Downloading Image #24 from https://www.bravotv.com/sites/bravo/files/styles/media-gallery-computer/public/field_media_items/2017/05/cyrus_vs_cyrus_personal_family_photos_cyrus_02.jpg?itok=9wj24-_l\n",
            "[%] File Downloaded !\n",
            "\n",
            "[%] Downloading Image #25 from https://c2.staticflickr.com/4/3044/2750847545_18a59a1192_b.jpg\n",
            "[%] File Downloaded !\n",
            "\n",
            "[%] Downloading Image #26 from https://brisbaneinsects.com/brisbane_bees/images/DSC_6809_small.jpg\n",
            "[%] File Downloaded !\n",
            "\n",
            "[%] Downloading Image #27 from http://www.thisiscolossal.com/wp-content/uploads/2017/05/Embrace-detail-1-onl.jpg\n",
            "[%] File Downloaded !\n",
            "\n",
            "[%] Downloading Image #28 from https://spongekids.com/wp-content/uploads/2014/04/pipe-cleaner-animals/28-pipe-cleaner-antelope.jpg\n",
            "[%] File Downloaded !\n",
            "\n",
            "[%] Downloading Image #29 from https://www.oxygen.com/sites/oxygen/files/styles/media-gallery-computer/public/legacy/dj_bua-497d1a2fc0e4792aac1954cc1357111e.jpg?itok=REnNXCcy\n",
            "[%] File Downloaded !\n",
            "\n",
            "\n",
            "\n",
            "[!!]Indexing page: 4\n",
            "\n",
            "[%] Indexed 8 Images on Page 4.\n",
            "\n",
            "===============================================\n",
            "\n",
            "[%] Downloading Image #30 from https://www.littlebcakes.com/wp-content/uploads/2014/02/Peacock-Wedding-Cake.jpg\n",
            "[%] File Downloaded !\n",
            "\n",
            "\n",
            "\n",
            "[%] Done. Downloaded 30 images.\n",
            "\n",
            "===============================================\n",
            "\n"
          ],
          "name": "stdout"
        }
      ]
    },
    {
      "cell_type": "code",
      "metadata": {
        "colab": {
          "base_uri": "https://localhost:8080/"
        },
        "id": "oXecPmyjeV1D",
        "outputId": "620fe924-847a-46cd-cc6a-a5fab21e2155"
      },
      "source": [
        "downloader.download(\"ice cream\",limit=30,output_dir='images',adult_filter_off=True)"
      ],
      "execution_count": null,
      "outputs": [
        {
          "output_type": "stream",
          "text": [
            "\n",
            "\n",
            "[!!]Indexing page: 1\n",
            "\n",
            "[%] Indexed 10 Images on Page 1.\n",
            "\n",
            "===============================================\n",
            "\n",
            "[%] Downloading Image #1 from http://www.cookingclassy.com/wp-content/uploads/2013/01/cheaters-fried-ice-cream3.jpg\n",
            "[%] File Downloaded !\n",
            "\n",
            "[%] Downloading Image #2 from http://www.clker.com/cliparts/J/Q/t/r/N/C/chocolate-ice-cream-bar-hi.png\n",
            "[%] File Downloaded !\n",
            "\n",
            "[%] Downloading Image #3 from http://www.thegunnysack.com/wp-content/uploads/2014/06/Homemade_Ice_Cream_Smores.jpg\n",
            "[%] File Downloaded !\n",
            "\n",
            "[%] Downloading Image #4 from http://www.zastavki.com/pictures/2560x1600/2011/Food_Cakes_and_Sweet_Fruit_Ice_Cream_029993_.jpg\n",
            "[%] File Downloaded !\n",
            "\n",
            "[%] Downloading Image #5 from http://img.photobucket.com/albums/v492/NKDoyle/IceCreamSoda.jpg\n",
            "[%] File Downloaded !\n",
            "\n",
            "[%] Downloading Image #6 from http://www.tarasmulticulturaltable.com/wp-content/uploads/2014/04/fried-ice-cream-6-of-6.jpg\n",
            "[%] File Downloaded !\n",
            "\n",
            "[%] Downloading Image #7 from http://2.bp.blogspot.com/_PH89f99KO4Y/TCfF23_db_I/AAAAAAAACJk/D8L_Q1yHCI0/s1600/oreo_ice_cream_cake.jpg\n",
            "[%] File Downloaded !\n",
            "\n",
            "[%] Downloading Image #8 from http://www.clker.com/cliparts/I/U/N/m/w/L/ice-cream-silhouette-hi.png\n",
            "[%] File Downloaded !\n",
            "\n",
            "[%] Downloading Image #9 from http://4.bp.blogspot.com/-QkTPZa09sk8/Udvi3rewooI/AAAAAAAAACc/o7CifeN7dcM/s1600/ice+cream+spoons.jpg\n",
            "[%] File Downloaded !\n",
            "\n",
            "[%] Downloading Image #10 from http://4.bp.blogspot.com/-YXTs1zd3Slk/T1Ycc8tPiRI/AAAAAAAA5c8/iGwtFEp5cbg/s1600/Cats+Eating+Ice+Cream+(10).jpg\n",
            "[%] File Downloaded !\n",
            "\n",
            "\n",
            "\n",
            "[!!]Indexing page: 2\n",
            "\n",
            "[%] Indexed 10 Images on Page 2.\n",
            "\n",
            "===============================================\n",
            "\n",
            "[%] Downloading Image #11 from https://wellsfoodservice.com/shakes/public/assets/images/recipes/banana-shake.jpg\n",
            "[%] File Downloaded !\n",
            "\n",
            "[%] Downloading Image #12 from https://pics.clipartpng.com/idownload-image.php?file=Ice_Cream_and_Nuts_Stick_PNG_Clip_Art-2203.png\n",
            "[Error]Invalid image, not saving https://pics.clipartpng.com/idownload-image.php?file=Ice_Cream_and_Nuts_Stick_PNG_Clip_Art-2203.png\n",
            "\n",
            "[!] Issue getting: https://pics.clipartpng.com/idownload-image.php?file=Ice_Cream_and_Nuts_Stick_PNG_Clip_Art-2203.png\n",
            "[!] Error:: No active exception to reraise\n",
            "[%] Downloading Image #12 from https://polarbear.co.in/wp-content/uploads/2020/03/deathbychocolate.jpg\n",
            "[%] File Downloaded !\n",
            "\n",
            "[%] Downloading Image #13 from https://www.tempatmenarik.my/wp-content/uploads/2019/06/Dapat-jugak-merasa-Ice-Cream-yg-famous-di-Penang-ni.jpeg\n",
            "[Error]Invalid image, not saving https://www.tempatmenarik.my/wp-content/uploads/2019/06/Dapat-jugak-merasa-Ice-Cream-yg-famous-di-Penang-ni.jpeg\n",
            "\n",
            "[!] Issue getting: https://www.tempatmenarik.my/wp-content/uploads/2019/06/Dapat-jugak-merasa-Ice-Cream-yg-famous-di-Penang-ni.jpeg\n",
            "[!] Error:: No active exception to reraise\n",
            "[%] Downloading Image #13 from https://i1.wp.com/www.daledetalles.com/wp-content/uploads/2016/08/fiesta-de-helado13.jpg\n",
            "[%] File Downloaded !\n",
            "\n",
            "[%] Downloading Image #14 from https://neighborfoodblog.com/wp-content/uploads/2018/08/Oreo-Ice-Cream-Dessert.jpg\n",
            "[%] File Downloaded !\n",
            "\n",
            "[%] Downloading Image #15 from https://theweekendedition.com.au/wp-content/uploads/2018/03/TWE-FeedingTheFuture-03-1100x550-c-center.jpg\n",
            "[%] File Downloaded !\n",
            "\n",
            "[%] Downloading Image #16 from https://whatscookingamerica.net/wp-content/uploads/2015/08/PreparingIceCreamMaker4.jpg\n",
            "[%] File Downloaded !\n",
            "\n",
            "[%] Downloading Image #17 from https://static.checkiday.com/img/1200/ice-cream-sundae-100787.jpg\n",
            "[%] File Downloaded !\n",
            "\n",
            "[%] Downloading Image #18 from https://foodnessgracious.com/wp-content/uploads/2014/08/olive-oil-thyme-ice-cream-06.jpg\n",
            "[!] Issue getting: https://foodnessgracious.com/wp-content/uploads/2014/08/olive-oil-thyme-ice-cream-06.jpg\n",
            "[!] Error:: HTTP Error 503: Service Temporarily Unavailable\n",
            "\n",
            "\n",
            "[!!]Indexing page: 3\n",
            "\n",
            "[%] Indexed 9 Images on Page 3.\n",
            "\n",
            "===============================================\n",
            "\n",
            "[%] Downloading Image #18 from https://wallpapershome.com/images/wallpapers/ice-cream-1080x1920-cherries-delicious-4k-15363.jpg\n",
            "[%] File Downloaded !\n",
            "\n",
            "[%] Downloading Image #19 from http://media.juiceonline.com/wp-content/uploads/2018/06/08172539/para.jpg\n",
            "[%] File Downloaded !\n",
            "\n",
            "[%] Downloading Image #20 from http://www.mancinisicecream.co.uk/website/wp-content/uploads/2015/09/wedding-cakes-006-773x1030.jpg\n",
            "[%] File Downloaded !\n",
            "\n",
            "[%] Downloading Image #21 from https://cdn.diys.com/wp-content/uploads/2016/05/red-velvet-ice-cream.jpg\n",
            "[%] File Downloaded !\n",
            "\n",
            "[%] Downloading Image #22 from https://www.haagendazs.us/sites/site.prod1.haagendazs.us/files/product/thumbnail-image/PeanutButterCookieSquare-thumb.png\n",
            "[%] File Downloaded !\n",
            "\n",
            "[%] Downloading Image #23 from http://spoonssquared.com/wp-content/uploads/2014/07/4-mini-cones.jpg\n",
            "[%] File Downloaded !\n",
            "\n",
            "[%] Downloading Image #24 from https://thumbs.dreamstime.com/z/delicious-ice-cream-sundae-10412430.jpg\n",
            "[%] File Downloaded !\n",
            "\n",
            "[%] Downloading Image #25 from http://i.ebayimg.com/images/i/361845355054-0-1/s-l1000.jpg\n",
            "[%] File Downloaded !\n",
            "\n",
            "[%] Downloading Image #26 from https://www.garrettsbridges.com/wp-files/wp-content/uploads/ice-cream-stick-tower/Image0618-225x300.jpg\n",
            "[%] File Downloaded !\n",
            "\n",
            "\n",
            "\n",
            "[!!]Indexing page: 4\n",
            "\n",
            "[%] Indexed 8 Images on Page 4.\n",
            "\n",
            "===============================================\n",
            "\n",
            "[%] Downloading Image #27 from https://i1.wp.com/www.daledetalles.com/wp-content/uploads/2016/08/fiesta-de-helado13.jpg\n",
            "[%] File Downloaded !\n",
            "\n",
            "[%] Downloading Image #28 from https://foodnessgracious.com/wp-content/uploads/2014/08/olive-oil-thyme-ice-cream-06.jpg\n",
            "[!] Issue getting: https://foodnessgracious.com/wp-content/uploads/2014/08/olive-oil-thyme-ice-cream-06.jpg\n",
            "[!] Error:: HTTP Error 503: Service Temporarily Unavailable\n",
            "[%] Downloading Image #28 from https://theweekendedition.com.au/wp-content/uploads/2018/03/TWE-FeedingTheFuture-03-1100x550-c-center.jpg\n",
            "[%] File Downloaded !\n",
            "\n",
            "[%] Downloading Image #29 from https://neighborfoodblog.com/wp-content/uploads/2018/08/Oreo-Ice-Cream-Dessert.jpg\n",
            "[%] File Downloaded !\n",
            "\n",
            "[%] Downloading Image #30 from https://static.checkiday.com/img/1200/ice-cream-sundae-100787.jpg\n",
            "[%] File Downloaded !\n",
            "\n",
            "\n",
            "\n",
            "[%] Done. Downloaded 30 images.\n",
            "\n",
            "===============================================\n",
            "\n"
          ],
          "name": "stdout"
        }
      ]
    },
    {
      "cell_type": "code",
      "metadata": {
        "id": "NKF-9PWrhFGJ"
      },
      "source": [
        "# preprocessing\n",
        "# 1. Resize\n",
        "# 2. Flattern\n",
        "import os\n",
        "import matplotlib.pyplot as plt\n",
        "import numpy as np\n",
        "from skimage.io import imread\n",
        "from skimage.transform import resize\n",
        "\n",
        "target = []\n",
        "images = []\n",
        "flat_data = []\n",
        "\n",
        "DATADIR = '/content/images'\n",
        "CATEGORIES = ['dahlia','peacock','ice cream']\n",
        "\n",
        "for category in CATEGORIES:\n",
        " class_num = CATEGORIES.index(category)\n",
        " path = os.path.join(DATADIR,category) # Create path to use all the images\n",
        " for img in os.listdir(path):\n",
        "  img_array = imread(os.path.join(path,img))\n",
        "  #print(img_array.shape)\n",
        "  #plt.imshow(img_array)\n",
        "  img_resized = resize(img_array,(150,150,3)) #  Normalizes the value from 0 to 1\n",
        "  flat_data.append(img_resized.flatten())\n",
        "  images.append(img_resized)\n",
        "  target.append(class_num)\n",
        "\n",
        "flat_data = np.array(flat_data)\n",
        "target = np.array(target)\n",
        "images = np.array(images)\n"
      ],
      "execution_count": null,
      "outputs": []
    },
    {
      "cell_type": "code",
      "metadata": {
        "colab": {
          "base_uri": "https://localhost:8080/"
        },
        "id": "3_VmweS_vZgU",
        "outputId": "d030f14c-3db7-4660-87fd-c6b549d76a68"
      },
      "source": [
        "len(flat_data[0])"
      ],
      "execution_count": null,
      "outputs": [
        {
          "output_type": "execute_result",
          "data": {
            "text/plain": [
              "67500"
            ]
          },
          "metadata": {
            "tags": []
          },
          "execution_count": 26
        }
      ]
    },
    {
      "cell_type": "code",
      "metadata": {
        "colab": {
          "base_uri": "https://localhost:8080/"
        },
        "id": "wNr-kJSXvhuA",
        "outputId": "3a775843-fc37-47cb-dcb8-787dc2227a1e"
      },
      "source": [
        "150*150*3"
      ],
      "execution_count": null,
      "outputs": [
        {
          "output_type": "execute_result",
          "data": {
            "text/plain": [
              "67500"
            ]
          },
          "metadata": {
            "tags": []
          },
          "execution_count": 27
        }
      ]
    },
    {
      "cell_type": "markdown",
      "metadata": {
        "id": "5XtUXbuPWc_w"
      },
      "source": [
        ""
      ]
    },
    {
      "cell_type": "code",
      "metadata": {
        "colab": {
          "base_uri": "https://localhost:8080/"
        },
        "id": "ezvMadAqwEur",
        "outputId": "14d7b5a9-db43-47be-c0f1-9b4c9def68cc"
      },
      "source": [
        "target"
      ],
      "execution_count": null,
      "outputs": [
        {
          "output_type": "execute_result",
          "data": {
            "text/plain": [
              "array([0, 0, 0, 0, 0, 0, 0, 0, 0, 0, 0, 0, 0, 0, 0, 0, 0, 0, 0, 0, 0, 0,\n",
              "       0, 0, 0, 0, 0, 0, 0, 0, 1, 1, 1, 1, 1, 1, 1, 1, 1, 1, 1, 1, 1, 1,\n",
              "       1, 1, 1, 1, 1, 1, 1, 1, 1, 1, 1, 1, 1, 1, 1, 1, 2, 2, 2, 2, 2, 2,\n",
              "       2, 2, 2, 2, 2, 2, 2, 2, 2, 2, 2, 2, 2, 2, 2, 2, 2, 2, 2, 2, 2, 2,\n",
              "       2, 2])"
            ]
          },
          "metadata": {
            "tags": []
          },
          "execution_count": 28
        }
      ]
    },
    {
      "cell_type": "code",
      "metadata": {
        "colab": {
          "base_uri": "https://localhost:8080/",
          "height": 282
        },
        "id": "uN2KX0RhwNHv",
        "outputId": "2beab6a1-2891-41e4-d705-60f803fec9b9"
      },
      "source": [
        "unique,count = np.unique(target,return_counts=True)\n",
        "plt.bar(CATEGORIES,count)"
      ],
      "execution_count": null,
      "outputs": [
        {
          "output_type": "execute_result",
          "data": {
            "text/plain": [
              "<BarContainer object of 3 artists>"
            ]
          },
          "metadata": {
            "tags": []
          },
          "execution_count": 31
        },
        {
          "output_type": "display_data",
          "data": {
            "image/png": "[encoded data removed]",
            "text/plain": [
              "<Figure size 432x288 with 1 Axes>"
            ]
          },
          "metadata": {
            "tags": [],
            "needs_background": "light"
          }
        }
      ]
    },
    {
      "cell_type": "code",
      "metadata": {
        "id": "5v2iorHE7p7L"
      },
      "source": [
        ""
      ],
      "execution_count": null,
      "outputs": []
    },
    {
      "cell_type": "code",
      "metadata": {
        "id": "2esEUIip9d-Q"
      },
      "source": [
        ""
      ],
      "execution_count": null,
      "outputs": []
    }
  ]
}